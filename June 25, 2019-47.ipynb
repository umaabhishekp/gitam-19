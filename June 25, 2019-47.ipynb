{
 "cells": [
  {
   "cell_type": "markdown",
   "metadata": {},
   "source": [
    "## Binary search "
   ]
  },
  {
   "cell_type": "code",
   "execution_count": 4,
   "metadata": {},
   "outputs": [
    {
     "name": "stdout",
     "output_type": "stream",
     "text": [
      "Item is not found\n"
     ]
    }
   ],
   "source": [
    "def binarysearch(a,lindex,rindex,target):\n",
    "    while lindex<=rindex:\n",
    "        mindex=lindex+abs((lindex-rindex)//2);\n",
    "        if a[mindex]==target:\n",
    "            return mindex;\n",
    "        if a[mindex]>target:\n",
    "            return mindex-1;\n",
    "        else:\n",
    "            lindex=mindex+1;\n",
    "    return -1;\n",
    "list1=[1,4,9,15,25,45,57,88,98]\n",
    "res=binarysearch(list1,0,8,818)\n",
    "if res!=-1:\n",
    "    print(\"Item is found\");\n",
    "else:\n",
    "    print(\"Item is not found\");"
   ]
  },
  {
   "cell_type": "markdown",
   "metadata": {},
   "source": [
    "## Bubble sort:"
   ]
  },
  {
   "cell_type": "code",
   "execution_count": 7,
   "metadata": {},
   "outputs": [
    {
     "name": "stdout",
     "output_type": "stream",
     "text": [
      "1 3 6 18 19 25 "
     ]
    }
   ],
   "source": [
    "def bubblesort(a):\n",
    "    for i in range(len(a)-1):\n",
    "        for j in range(len(a)-1):\n",
    "            if a[j]>a[j+1]:\n",
    "                a[j],a[j+1]=a[j+1],a[j];\n",
    "    for i in range(len(a)):\n",
    "        print(a[i],end=\" \")\n",
    "list1= [19,1,25,6,18,3]\n",
    "bubblesort(list1)"
   ]
  },
  {
   "cell_type": "markdown",
   "metadata": {},
   "source": [
    "# String in Python"
   ]
  },
  {
   "cell_type": "code",
   "execution_count": 2,
   "metadata": {},
   "outputs": [
    {
     "name": "stdout",
     "output_type": "stream",
     "text": [
      "Application\n",
      "Application test\n",
      "        working\n",
      "        completed\n",
      "        list\n",
      "        strings\n",
      "        python\n"
     ]
    }
   ],
   "source": [
    "str1=\"Application\"\n",
    "print(str)\n",
    "\n",
    "str2=\"\"\"Application test\n",
    "        working\n",
    "        completed\n",
    "        list\n",
    "        strings\n",
    "        python\"\"\"\n",
    "print(str2)"
   ]
  },
  {
   "cell_type": "code",
   "execution_count": 5,
   "metadata": {},
   "outputs": [
    {
     "name": "stdout",
     "output_type": "stream",
     "text": [
      "Application\n",
      "str1[0] = A\n",
      "str1[1] = p\n",
      "str1[-1] = n\n",
      "str1[-3] = i\n",
      "str1[1:5] = ppli\n",
      "str1[5] = Appli\n",
      "str1[5:-2] = cati\n",
      "str1[::-1] = noitacilppA\n"
     ]
    }
   ],
   "source": [
    "str1=\"Application\"\n",
    "print(str)\n",
    "\n",
    "print(\"str1[0] =\",str[0])\n",
    "print(\"str1[1] =\",str[1])\n",
    "print(\"str1[-1] =\",str[-1])\n",
    "print(\"str1[-3] =\",str[-3])\n",
    "print(\"str1[1:5] =\",str[1:5])\n",
    "print(\"str1[5] =\",str[:5])\n",
    "print(\"str1[5:-2] =\",str[5:-2])\n",
    "print(\"str1[::-1] =\",str[::-1])"
   ]
  },
  {
   "cell_type": "markdown",
   "metadata": {},
   "source": [
    "## Palindrome using string"
   ]
  },
  {
   "cell_type": "code",
   "execution_count": 8,
   "metadata": {},
   "outputs": [
    {
     "name": "stdout",
     "output_type": "stream",
     "text": [
      "False\n",
      "True\n"
     ]
    }
   ],
   "source": [
    "def ispalindrome(s):\n",
    "    if s==s[::-1]:\n",
    "        return True;\n",
    "    else:\n",
    "        return False;\n",
    "    \n",
    "print(ispalindrome(\"Python\"))\n",
    "print(ispalindrome(\"jalaj\"))"
   ]
  },
  {
   "cell_type": "markdown",
   "metadata": {},
   "source": [
    "## Count of digits of a number"
   ]
  },
  {
   "cell_type": "code",
   "execution_count": 10,
   "metadata": {},
   "outputs": [
    {
     "data": {
      "text/plain": [
       "6"
      ]
     },
     "execution_count": 10,
     "metadata": {},
     "output_type": "execute_result"
    }
   ],
   "source": [
    "def countdigits(n):\n",
    "    return len(n)\n",
    "countdigits(\"123456\")"
   ]
  },
  {
   "cell_type": "markdown",
   "metadata": {},
   "source": [
    "## Count of letters in a word using string"
   ]
  },
  {
   "cell_type": "code",
   "execution_count": 11,
   "metadata": {},
   "outputs": [
    {
     "data": {
      "text/plain": [
       "12"
      ]
     },
     "execution_count": 11,
     "metadata": {},
     "output_type": "execute_result"
    }
   ],
   "source": [
    "def countofchars(str):\n",
    "    return len(str)\n",
    "countofchars(\"Applications\")\n"
   ]
  },
  {
   "cell_type": "code",
   "execution_count": 22,
   "metadata": {},
   "outputs": [
    {
     "name": "stdout",
     "output_type": "stream",
     "text": [
      "5\n",
      "3\n"
     ]
    }
   ],
   "source": [
    "def countuppercase(str):\n",
    "    cnt=0\n",
    "    lst= list(str)\n",
    "    for x in range(len(lst)):\n",
    "        if (lst[x].isupper())== True:\n",
    "            cnt=cnt+1\n",
    "    return cnt\n",
    "\n",
    "print(countuppercase(\"AppLICAtion\"))\n",
    "print(countuppercase(\"TeST\"))\n"
   ]
  },
  {
   "cell_type": "code",
   "execution_count": 8,
   "metadata": {},
   "outputs": [
    {
     "name": "stdout",
     "output_type": "stream",
     "text": [
      "1 8 8 9  \n"
     ]
    }
   ],
   "source": [
    "def printdigits(str):\n",
    "    lst=list(str)\n",
    "    for x in range(0,len(lst)):\n",
    "        if ord(lst[x])>=48 and ord(lst[x])<=57:\n",
    "            print(lst[x],end=\" \")\n",
    "    return \" \"\n",
    "print(printdigits(\"Application1889\"))\n",
    "\n"
   ]
  },
  {
   "cell_type": "code",
   "execution_count": 2,
   "metadata": {},
   "outputs": [
    {
     "name": "stdout",
     "output_type": "stream",
     "text": [
      "26\n"
     ]
    }
   ],
   "source": [
    "def printsum(str):\n",
    "    sum=0\n",
    "    lst=list(str)\n",
    "    for x in range(0,len(lst)):\n",
    "        if ord(lst[x])>=48 and ord(lst[x])<=57:\n",
    "            sum=sum+ord(lst[x])-48\n",
    "    return sum;\n",
    "print(printsum(\"Application1889\"))\n",
    "\n"
   ]
  },
  {
   "cell_type": "code",
   "execution_count": 5,
   "metadata": {},
   "outputs": [
    {
     "name": "stdout",
     "output_type": "stream",
     "text": [
      "16\n"
     ]
    }
   ],
   "source": [
    "def sumofdigits(str):\n",
    "    sum=0\n",
    "    lst=list(str)\n",
    "    for x in range(len(lst)):\n",
    "        if ord(lst[x])>=48 and ord(lst[x])<=57:\n",
    "            if(ord(lst[x])%2==0):\n",
    "                sum=sum+ord(lst[x])-48;\n",
    "    return sum\n",
    "print(sumofdigits(\"Application1889\"))\n",
    "\n"
   ]
  },
  {
   "cell_type": "code",
   "execution_count": null,
   "metadata": {},
   "outputs": [],
   "source": []
  }
 ],
 "metadata": {
  "kernelspec": {
   "display_name": "Python 3",
   "language": "python",
   "name": "python3"
  },
  "language_info": {
   "codemirror_mode": {
    "name": "ipython",
    "version": 3
   },
   "file_extension": ".py",
   "mimetype": "text/x-python",
   "name": "python",
   "nbconvert_exporter": "python",
   "pygments_lexer": "ipython3",
   "version": "3.7.3"
  }
 },
 "nbformat": 4,
 "nbformat_minor": 2
}
