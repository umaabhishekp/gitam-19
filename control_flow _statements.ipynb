{
 "cells": [
  {
   "cell_type": "code",
   "execution_count": 1,
   "metadata": {},
   "outputs": [
    {
     "ename": "NameError",
     "evalue": "name 'Hello' is not defined",
     "output_type": "error",
     "traceback": [
      "\u001b[1;31m---------------------------------------------------------------------------\u001b[0m",
      "\u001b[1;31mNameError\u001b[0m                                 Traceback (most recent call last)",
      "\u001b[1;32m<ipython-input-1-85bf5114fa6b>\u001b[0m in \u001b[0;36m<module>\u001b[1;34m\u001b[0m\n\u001b[1;32m----> 1\u001b[1;33m \u001b[0mprint\u001b[0m\u001b[1;33m(\u001b[0m\u001b[0mHello\u001b[0m\u001b[1;33m)\u001b[0m\u001b[1;33m\u001b[0m\u001b[1;33m\u001b[0m\u001b[0m\n\u001b[0m",
      "\u001b[1;31mNameError\u001b[0m: name 'Hello' is not defined"
     ]
    }
   ],
   "source": [
    "print(Hello)"
   ]
  },
  {
   "cell_type": "code",
   "execution_count": 2,
   "metadata": {},
   "outputs": [
    {
     "name": "stdout",
     "output_type": "stream",
     "text": [
      "hello\n"
     ]
    }
   ],
   "source": [
    "print('hello')"
   ]
  },
  {
   "cell_type": "code",
   "execution_count": 3,
   "metadata": {},
   "outputs": [
    {
     "name": "stdout",
     "output_type": "stream",
     "text": [
      "Welcome to jupyter notebook\n"
     ]
    }
   ],
   "source": [
    "print('Welcome to jupyter notebook')"
   ]
  },
  {
   "cell_type": "code",
   "execution_count": 4,
   "metadata": {},
   "outputs": [],
   "source": [
    "#Control flow statements"
   ]
  },
  {
   "cell_type": "markdown",
   "metadata": {},
   "source": [
    "#Control flow statements"
   ]
  },
  {
   "cell_type": "markdown",
   "metadata": {},
   "source": [
    "##if(condition)"
   ]
  },
  {
   "cell_type": "code",
   "execution_count": 5,
   "metadata": {},
   "outputs": [
    {
     "name": "stdout",
     "output_type": "stream",
     "text": [
      "The number is lessthan 15\n"
     ]
    }
   ],
   "source": [
    "x=10;\n",
    "if(x<15):\n",
    "    print(\"The number is lessthan 15\");"
   ]
  },
  {
   "cell_type": "code",
   "execution_count": 6,
   "metadata": {},
   "outputs": [
    {
     "name": "stdout",
     "output_type": "stream",
     "text": [
      "num is lessthan 15\n"
     ]
    }
   ],
   "source": [
    "x=10;\n",
    "if(x>15):\n",
    "    print(\"Num is greaterthan 15\");\n",
    "else:\n",
    "    print(\"num is lessthan 15\");"
   ]
  },
  {
   "cell_type": "markdown",
   "metadata": {},
   "source": [
    "## x and y are inputs and we have to find the greatest number"
   ]
  },
  {
   "cell_type": "code",
   "execution_count": 8,
   "metadata": {},
   "outputs": [
    {
     "name": "stdout",
     "output_type": "stream",
     "text": [
      "x is greatest number\n"
     ]
    }
   ],
   "source": [
    "x=100\n",
    "y=20\n",
    "if(x>y):\n",
    "    print(\"x is greatest number\");\n",
    "else:\n",
    "    print(\"y is greater\");"
   ]
  },
  {
   "cell_type": "markdown",
   "metadata": {},
   "source": [
    "# Need two numbers as inputs if numbers are same then o/p should be square of first and if they are different then o/p must be multiplication of both nums"
   ]
  },
  {
   "cell_type": "code",
   "execution_count": 12,
   "metadata": {},
   "outputs": [
    {
     "name": "stdout",
     "output_type": "stream",
     "text": [
      "200\n"
     ]
    }
   ],
   "source": [
    "x=10\n",
    "y=20\n",
    "if(x==y):\n",
    "    print(x**2);\n",
    "else:\n",
    "    print(x*y);"
   ]
  },
  {
   "cell_type": "code",
   "execution_count": 13,
   "metadata": {},
   "outputs": [
    {
     "name": "stdout",
     "output_type": "stream",
     "text": [
      "100\n"
     ]
    }
   ],
   "source": [
    "x=10\n",
    "y=10\n",
    "if(x==y):\n",
    "    print(x**2);\n",
    "else:\n",
    "    print(x*y);"
   ]
  },
  {
   "cell_type": "markdown",
   "metadata": {},
   "source": [
    "# Need one num as input and check whether the num is zero or negative or positive number"
   ]
  },
  {
   "cell_type": "code",
   "execution_count": 18,
   "metadata": {},
   "outputs": [
    {
     "name": "stdout",
     "output_type": "stream",
     "text": [
      "num is positive\n"
     ]
    }
   ],
   "source": [
    "x=10\n",
    "if(x==0):\n",
    "    print(\"num is zero\");\n",
    "elif(x<0):\n",
    "    print(\"num is Negative\");\n",
    "elif(x>0):\n",
    "    print(\"num is positive\");"
   ]
  },
  {
   "cell_type": "markdown",
   "metadata": {},
   "source": [
    "# loop statements"
   ]
  },
  {
   "cell_type": "markdown",
   "metadata": {},
   "source": [
    "### Print no's from 10 to 1"
   ]
  },
  {
   "cell_type": "markdown",
   "metadata": {},
   "source": [
    "### Print nos from -22 to -45\n"
   ]
  },
  {
   "cell_type": "code",
   "execution_count": 22,
   "metadata": {},
   "outputs": [
    {
     "name": "stdout",
     "output_type": "stream",
     "text": [
      "10\n",
      "9\n",
      "8\n",
      "7\n",
      "6\n",
      "5\n",
      "4\n",
      "3\n",
      "2\n",
      "1\n"
     ]
    }
   ],
   "source": [
    "n=10\n",
    "while(n>=1):\n",
    "    print(n);\n",
    "    n=n-1;"
   ]
  },
  {
   "cell_type": "code",
   "execution_count": 24,
   "metadata": {},
   "outputs": [
    {
     "name": "stdout",
     "output_type": "stream",
     "text": [
      "-22\n",
      "-23\n",
      "-24\n",
      "-25\n",
      "-26\n",
      "-27\n",
      "-28\n",
      "-29\n",
      "-30\n",
      "-31\n",
      "-32\n",
      "-33\n",
      "-34\n",
      "-35\n",
      "-36\n",
      "-37\n",
      "-38\n",
      "-39\n",
      "-40\n",
      "-41\n",
      "-42\n",
      "-43\n",
      "-44\n",
      "-45\n"
     ]
    }
   ],
   "source": [
    "n=-22;\n",
    "while(n>=-45):\n",
    "    print(n);\n",
    "    n=n-1;"
   ]
  },
  {
   "cell_type": "markdown",
   "metadata": {},
   "source": [
    "## Print sum of even nos from 1 to 100"
   ]
  },
  {
   "cell_type": "code",
   "execution_count": 25,
   "metadata": {},
   "outputs": [
    {
     "name": "stdout",
     "output_type": "stream",
     "text": [
      "Enter the lower limit1\n",
      "Enter the upper limit100\n",
      "2450\n"
     ]
    }
   ],
   "source": [
    "x= int(input(\"Enter the lower limit\"));\n",
    "y= int(input(\"Enter the upper limit\"));\n",
    "sum=0;\n",
    "while(x!=y):\n",
    "    if(x%2==0):\n",
    "        sum=sum+x;\n",
    "    x=x+1;\n",
    "print(sum);"
   ]
  },
  {
   "cell_type": "markdown",
   "metadata": {},
   "source": [
    "# Input as a number and o/p should be digits of the given number from right side"
   ]
  },
  {
   "cell_type": "code",
   "execution_count": 27,
   "metadata": {},
   "outputs": [
    {
     "name": "stdout",
     "output_type": "stream",
     "text": [
      "enter a number143\n",
      "3\n",
      "4\n",
      "1\n"
     ]
    }
   ],
   "source": [
    "x=int(input(\"enter a number\"));\n",
    "while(x!=0):\n",
    "    r=x%10;\n",
    "    print(r);\n",
    "    x=x//10;"
   ]
  },
  {
   "cell_type": "markdown",
   "metadata": {},
   "source": [
    "# Sum of even digits in a given number"
   ]
  },
  {
   "cell_type": "code",
   "execution_count": 1,
   "metadata": {},
   "outputs": [
    {
     "name": "stdout",
     "output_type": "stream",
     "text": [
      "enter the number1889\n",
      "16\n"
     ]
    }
   ],
   "source": [
    "x= int(input(\"enter the number\"));\n",
    "sum=0;\n",
    "while(x!=0):\n",
    "    r=x%10;\n",
    "    if(r%2==0):\n",
    "        sum=sum+r;\n",
    "    x=x//10;\n",
    "print(sum);"
   ]
  },
  {
   "cell_type": "markdown",
   "metadata": {},
   "source": [
    "# Give a number as input and obtain output as names of respective digits"
   ]
  },
  {
   "cell_type": "code",
   "execution_count": 2,
   "metadata": {},
   "outputs": [
    {
     "name": "stdout",
     "output_type": "stream",
     "text": [
      "Enter the number143\n",
      "Three\n",
      "Four\n",
      "One\n"
     ]
    }
   ],
   "source": [
    "x= int(input(\"Enter the number\"));\n",
    "while(x!=0):\n",
    "    r=x%10;\n",
    "    if(r==0):\n",
    "        print(\"Zero\");\n",
    "    elif(r==1):\n",
    "        print(\"One\");\n",
    "    elif(r==2):\n",
    "        print(\"Two\");\n",
    "    elif(r==3):\n",
    "        print(\"Three\");\n",
    "    elif(r==4):\n",
    "        print(\"Four\");\n",
    "    elif(r==5):\n",
    "        print(\"Five\");\n",
    "    elif(r==6):\n",
    "        print(\"Six\");\n",
    "    elif(r==7):\n",
    "        print(\"Seven\");\n",
    "    elif(r==8):\n",
    "        print(\"Eight\");\n",
    "    elif(r==9):\n",
    "        print(\"Nine\");\n",
    "    x=x//10;\n",
    "            "
   ]
  },
  {
   "cell_type": "markdown",
   "metadata": {},
   "source": []
  },
  {
   "cell_type": "code",
   "execution_count": 4,
   "metadata": {},
   "outputs": [
    {
     "data": {
      "text/plain": [
       "3"
      ]
     },
     "execution_count": 4,
     "metadata": {},
     "output_type": "execute_result"
    }
   ],
   "source": [
    "3*1**3"
   ]
  },
  {
   "cell_type": "markdown",
   "metadata": {},
   "source": [
    "# Numbers as input and o/p is how many times the digit is repeated in between the second and third numbers\n"
   ]
  },
  {
   "cell_type": "code",
   "execution_count": 9,
   "metadata": {},
   "outputs": [
    {
     "name": "stdout",
     "output_type": "stream",
     "text": [
      "Enter the number1\n",
      "Enter the number6\n",
      "Enter the number68\n",
      "16\n"
     ]
    }
   ],
   "source": [
    "x= int(input(\"Enter the number\"));\n",
    "y= int(input(\"Enter the number\"));\n",
    "z= int(input(\"Enter the number\"));\n",
    "digit=0;\n",
    "c=0;\n",
    "while(y<=z):\n",
    "    j=y;\n",
    "    while(j!=0):\n",
    "        digit=j%10;\n",
    "        if(digit==x):\n",
    "            c=c+1;\n",
    "        j=j//10;\n",
    "    y=y+1;\n",
    "print(c);"
   ]
  },
  {
   "cell_type": "markdown",
   "metadata": {},
   "source": [
    "# Functional programming"
   ]
  },
  {
   "cell_type": "markdown",
   "metadata": {},
   "source": [
    "## functional programming to print n nantural numbers"
   ]
  },
  {
   "cell_type": "code",
   "execution_count": 23,
   "metadata": {},
   "outputs": [
    {
     "name": "stdout",
     "output_type": "stream",
     "text": [
      "1 2 3 4 5 6 7 8 9 \n",
      "1 2 3 4 5 6 7 8 9 10 11 12 13 14 15 \n"
     ]
    }
   ],
   "source": [
    "def printNnaturalNumbers(n):\n",
    "    cnt=1;\n",
    "    while(cnt<=n):\n",
    "        print(cnt,end = \" \");\n",
    "        cnt=cnt+1;\n",
    "    print()\n",
    "    return\n",
    "\n",
    "\n",
    "printNnaturalNumbers(9);\n",
    "printNnaturalNumbers(15);"
   ]
  },
  {
   "cell_type": "markdown",
   "metadata": {},
   "source": [
    "## Find the factorial of a number"
   ]
  },
  {
   "cell_type": "code",
   "execution_count": 24,
   "metadata": {},
   "outputs": [
    {
     "name": "stdout",
     "output_type": "stream",
     "text": [
      "120\n",
      "3628800\n"
     ]
    }
   ],
   "source": [
    "def findFact(n):\n",
    "    fact=1;\n",
    "    while(n!=0):\n",
    "        fact=fact*n;\n",
    "        n=n-1;\n",
    "    return fact;\n",
    "\n",
    "print(findFact(5));\n",
    "print(findFact(10));"
   ]
  },
  {
   "cell_type": "markdown",
   "metadata": {},
   "source": [
    "# Count of palindromes"
   ]
  },
  {
   "cell_type": "code",
   "execution_count": null,
   "metadata": {},
   "outputs": [],
   "source": [
    "def countOfPalindromes(n1,n2)\n",
    "cnt=0;\n",
    "\n",
    "\n",
    "\n",
    "\n",
    "\n",
    "return cnt;\n",
    "print(countOfPalindromes(10,30))"
   ]
  },
  {
   "cell_type": "code",
   "execution_count": 25,
   "metadata": {},
   "outputs": [
    {
     "data": {
      "text/plain": [
       "'C:\\\\Users\\\\student'"
      ]
     },
     "execution_count": 25,
     "metadata": {},
     "output_type": "execute_result"
    }
   ],
   "source": [
    "import os\n",
    "os.getcwd()"
   ]
  },
  {
   "cell_type": "code",
   "execution_count": 5,
   "metadata": {},
   "outputs": [
    {
     "name": "stdout",
     "output_type": "stream",
     "text": [
      "2\n"
     ]
    }
   ],
   "source": [
    "def countOfPalindromes(n1,n2):\n",
    "    cnt=0;\n",
    "    while n1!=n2:\n",
    "        sum=0;\n",
    "        buffer=n1;\n",
    "        while n1 != 0:\n",
    "            r=n1 % 10;\n",
    "            sum =(sum * 10) + r;\n",
    "            n1 = n1 // 10;\n",
    "        if buffer==sum:\n",
    "            cnt=cnt+1;\n",
    "        n1=buffer;    \n",
    "        n1=n1 + 1;    \n",
    "    return cnt;\n",
    "print(countOfPalindromes(10,30))"
   ]
  },
  {
   "cell_type": "code",
   "execution_count": null,
   "metadata": {},
   "outputs": [],
   "source": []
  },
  {
   "cell_type": "code",
   "execution_count": null,
   "metadata": {},
   "outputs": [],
   "source": []
  }
 ],
 "metadata": {
  "kernelspec": {
   "display_name": "Python 3",
   "language": "python",
   "name": "python3"
  },
  "language_info": {
   "codemirror_mode": {
    "name": "ipython",
    "version": 3
   },
   "file_extension": ".py",
   "mimetype": "text/x-python",
   "name": "python",
   "nbconvert_exporter": "python",
   "pygments_lexer": "ipython3",
   "version": "3.7.3"
  }
 },
 "nbformat": 4,
 "nbformat_minor": 2
}
