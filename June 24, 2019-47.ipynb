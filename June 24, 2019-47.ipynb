{
 "cells": [
  {
   "cell_type": "markdown",
   "metadata": {},
   "source": [
    " ## Factors list of given number"
   ]
  },
  {
   "cell_type": "code",
   "execution_count": null,
   "metadata": {},
   "outputs": [],
   "source": [
    "def factorslist(n):\n",
    "    i=1;\n",
    "    while(i!=n):\n",
    "        if(n%i==0):\n",
    "            print(i,end= \" \");\n",
    "        i=i+1;\n",
    "    return;\n",
    "factorslist(12);"
   ]
  },
  {
   "cell_type": "markdown",
   "metadata": {},
   "source": [
    "## Print sum of even numbers"
   ]
  },
  {
   "cell_type": "code",
   "execution_count": null,
   "metadata": {},
   "outputs": [],
   "source": [
    "def printeven(n):\n",
    "    cnt=0;\n",
    "    sum=0;\n",
    "    while(cnt!=n):\n",
    "        if(cnt%2==0):\n",
    "            sum=sum+cnt;\n",
    "        cnt=cnt+1;\n",
    "    return sum;\n",
    "printeven(20)"
   ]
  },
  {
   "cell_type": "markdown",
   "metadata": {},
   "source": [
    "## List in Python"
   ]
  },
  {
   "cell_type": "code",
   "execution_count": null,
   "metadata": {
    "scrolled": true
   },
   "outputs": [],
   "source": [
    "list=[1,2,3,4,5];\n",
    "#enter List\n",
    "print(list);\n",
    "#list[0]\n",
    "print(list[0]);"
   ]
  },
  {
   "cell_type": "code",
   "execution_count": null,
   "metadata": {},
   "outputs": [],
   "source": [
    "list2=[\"Abhishek\",\"saketh\",\"Kushal\"]\n",
    "for x in list2:\n",
    "       print(x,end= \" \")\n",
    "\n",
    "print()\n",
    "print(list2)"
   ]
  },
  {
   "cell_type": "code",
   "execution_count": null,
   "metadata": {},
   "outputs": [],
   "source": [
    "list3=[1,2,3,4,5,6,7,8,9,10]\n",
    "for x in list3:\n",
    "    print(x,end = \" \")\n",
    "\n",
    "print();\n",
    "print(list3[1:-1]);\n",
    "print(list3[::2]);\n",
    "print(list3[::3]);\n",
    "print(list3[::4]);\n",
    "print(list3[::-2])"
   ]
  },
  {
   "cell_type": "markdown",
   "metadata": {},
   "source": [
    "## List with range function() "
   ]
  },
  {
   "cell_type": "code",
   "execution_count": null,
   "metadata": {},
   "outputs": [],
   "source": [
    "list1 =[\"Abhishek\",\"Saketh\",\"Samsung\",1];\n",
    "print(list1);\n",
    "list1[2]=15;\n",
    "print(list1);\n",
    "del list1[3];\n",
    "print(list1);\n",
    "list1=[\"Gitam\"]\n",
    "print(list1);\n",
    "list2=[1,2,3];\n",
    "print(list2);\n",
    "print(list1+list2);\n",
    "list2.append(15);\n",
    "print(list2)"
   ]
  },
  {
   "cell_type": "code",
   "execution_count": null,
   "metadata": {},
   "outputs": [],
   "source": [
    "sum(list2)"
   ]
  },
  {
   "cell_type": "code",
   "execution_count": null,
   "metadata": {
    "scrolled": true
   },
   "outputs": [],
   "source": [
    "list2=[1,2,3,4,5]\n",
    "print(list2);\n",
    "list2.append(3);\n",
    "list2.append(2);\n",
    "list2.append(1);\n",
    "print(list2);\n",
    "print(list2.count(1));\n",
    "print(list2.count(3));"
   ]
  },
  {
   "cell_type": "code",
   "execution_count": null,
   "metadata": {},
   "outputs": [],
   "source": [
    "list1=[\"gitam\",\"python\",\"raptor\",1,15,\"python\",\"python\"];\n",
    "print(list1)\n",
    "print(len(list1));\n",
    "list1.insert(2,2019)\n",
    "print(list1);\n",
    "print(len(list1));\n",
    "list1.insert(4,2020);\n",
    "print(list1);\n",
    "print(list1.index('python'));\n",
    "print(list1.index(1));"
   ]
  },
  {
   "cell_type": "markdown",
   "metadata": {},
   "source": [
    "## Reverse the list"
   ]
  },
  {
   "cell_type": "code",
   "execution_count": null,
   "metadata": {},
   "outputs": [],
   "source": [
    "list1=[\"gitam\",\"python\",\"raptor\",1,15,\"python\",\"python\"];\n",
    "list1.reverse()\n",
    "print(list1)\n"
   ]
  },
  {
   "cell_type": "markdown",
   "metadata": {},
   "source": [
    "# Linear search"
   ]
  },
  {
   "cell_type": "code",
   "execution_count": null,
   "metadata": {},
   "outputs": [],
   "source": [
    "def linearsearch(a,target):\n",
    "    flag=0;\n",
    "    for i in range(len(a)):\n",
    "        if a[i] == target:\n",
    "            flag=1;\n",
    "            break\n",
    "    if(flag!=0):\n",
    "        print(\"Target item is found\");\n",
    "    else:\n",
    "        print(\"Target item is not found\");\n",
    "a=[1,2,3,4,5,6]\n",
    "linearsearch(a,5)\n",
    "            "
   ]
  },
  {
   "cell_type": "code",
   "execution_count": null,
   "metadata": {},
   "outputs": [],
   "source": [
    "def lsd(a,target):\n",
    "    flag=0\n",
    "    for i in range(len(a)):\n",
    "        if a[i] == target:\n",
    "            flag=flag+1\n",
    "            break\n",
    "    print(flag)\n",
    "    \n",
    "a=[1,2,3,4,5,6,5,6,8,7,8,9]\n",
    "lsd(a,6)        "
   ]
  },
  {
   "cell_type": "code",
   "execution_count": null,
   "metadata": {},
   "outputs": [],
   "source": [
    "def linearsearch(a,target):\n",
    "    flag=0;\n",
    "    for i in range(len(a)):\n",
    "        if a[i] == target:\n",
    "            flag=1;\n",
    "            break\n",
    "    if(flag!=0):\n",
    "        print(\"Target item is found\");\n",
    "    else:\n",
    "        print(\"Target item is not found\");\n",
    "a=[1,2,3,4,5,6]\n",
    "linearsearch(a,5)\n",
    "            "
   ]
  },
  {
   "cell_type": "code",
   "execution_count": 3,
   "metadata": {},
   "outputs": [
    {
     "name": "stdout",
     "output_type": "stream",
     "text": [
      "2\n"
     ]
    }
   ],
   "source": [
    "def lsd(a,target):\n",
    "    flag=0\n",
    "    for i in range(len(a)):\n",
    "        if a[i] == target:\n",
    "            flag=flag+1\n",
    "        \n",
    "    print(flag)\n",
    "    \n",
    "a=[1,2,3,4,5,6,5,6,8,7,8,9]\n",
    "lsd(a,5)        "
   ]
  },
  {
   "cell_type": "markdown",
   "metadata": {},
   "source": [
    "# Give input as a list and obtain output as index of target value"
   ]
  },
  {
   "cell_type": "code",
   "execution_count": 1,
   "metadata": {},
   "outputs": [
    {
     "name": "stdout",
     "output_type": "stream",
     "text": [
      "1\n",
      "4\n",
      "8\n"
     ]
    }
   ],
   "source": [
    "def linearexample1(a,target):\n",
    "    \n",
    "    for i in range(len(a)):\n",
    "        if a[i]== target:\n",
    "            print (i);\n",
    "        \n",
    "    \n",
    "a=[1,5,9,6,5,1,15,12,5]\n",
    "linearexample1(a,5)"
   ]
  },
  {
   "cell_type": "markdown",
   "metadata": {},
   "source": [
    "## Give a list as input and obtain output as sequence of characters"
   ]
  },
  {
   "cell_type": "code",
   "execution_count": 6,
   "metadata": {},
   "outputs": [
    {
     "name": "stdout",
     "output_type": "stream",
     "text": [
      "!\n",
      "!!!!\n",
      "!!!!!!!!\n"
     ]
    }
   ],
   "source": [
    "def linearexample1(a,target):\n",
    "    \n",
    "    for i in range(len(a)):\n",
    "        if a[i]== target:\n",
    "            j=0;\n",
    "            while(j!=i):\n",
    "                print (\"!\",end = \"\");\n",
    "                j=j+1;\n",
    "            print();\n",
    "            \n",
    "        \n",
    "    \n",
    "a=[1,5,9,6,5,1,15,12,5]\n",
    "linearexample1(a,5)"
   ]
  },
  {
   "cell_type": "markdown",
   "metadata": {},
   "source": [
    "## Give a list as input and obtain output as the sum of all list items which is perfect multiple of 3 & 5"
   ]
  },
  {
   "cell_type": "code",
   "execution_count": 20,
   "metadata": {},
   "outputs": [
    {
     "name": "stdout",
     "output_type": "stream",
     "text": [
      "60\n"
     ]
    }
   ],
   "source": [
    "def linearexample2(a):\n",
    "    sum=0\n",
    "    for i in range(len(a)):\n",
    "        if a[i]%3==0 and a[i]%5==0:\n",
    "            \n",
    "                sum=sum+a[i];\n",
    "    return sum;\n",
    "a= [15,12,2,9,18,36,45]\n",
    "print (linearexample2(a))\n",
    "          "
   ]
  },
  {
   "cell_type": "code",
   "execution_count": null,
   "metadata": {},
   "outputs": [],
   "source": []
  },
  {
   "cell_type": "code",
   "execution_count": 41,
   "metadata": {},
   "outputs": [
    {
     "name": "stdout",
     "output_type": "stream",
     "text": [
      "1\n",
      "3\n",
      "8\n",
      "15\n",
      "5\n"
     ]
    }
   ],
   "source": [
    "def linearexample3(a):\n",
    "    mult=1\n",
    "    for i in range(len(a)):\n",
    "        if i==0 or i==len(a)-1: \n",
    "            print (a[i])\n",
    "        else:\n",
    "            mult=a[i-1]*a[i+1];\n",
    "            print(mult);\n",
    "a=[1,2,3,4,5]\n",
    "linearexample3(a)"
   ]
  },
  {
   "cell_type": "code",
   "execution_count": 45,
   "metadata": {},
   "outputs": [
    {
     "name": "stdout",
     "output_type": "stream",
     "text": [
      "1\n",
      "9\n",
      "19\n",
      "22\n"
     ]
    }
   ],
   "source": [
    "def linearexample4(a):\n",
    "    for i in range(len(a)):\n",
    "        if i==0 or i==len(a)-1: \n",
    "            print(a[i])\n",
    "        else:\n",
    "            if a[i+1]%2==0 and a[i-1]%2==0:\n",
    "                print (a[i]);\n",
    "a=[1,6,9,4,16,19,22]\n",
    "linearexample4(a)\n"
   ]
  },
  {
   "cell_type": "code",
   "execution_count": 4,
   "metadata": {},
   "outputs": [
    {
     "name": "stdout",
     "output_type": "stream",
     "text": [
      "Enter a value14569\n",
      "[1, 4, 5, 6, 9]\n"
     ]
    }
   ],
   "source": [
    "def numtolist1(a):\n",
    "    list1=[]\n",
    "    while a!=0:\n",
    "        r=a%10;\n",
    "        list1.append(r)\n",
    "        a=a//10\n",
    "    list1.reverse()\n",
    "    print(list1)\n",
    "    \n",
    "a= int(input(\"Enter a value\"))\n",
    "numtolist1(a)"
   ]
  },
  {
   "cell_type": "code",
   "execution_count": 9,
   "metadata": {},
   "outputs": [
    {
     "name": "stdout",
     "output_type": "stream",
     "text": [
      "14569"
     ]
    }
   ],
   "source": [
    "def numtolist1(a):\n",
    "    for i in range(len(a)):\n",
    "        if i>=0:\n",
    "            print(a[i],end=\"\");\n",
    "a=[1,4,5,6,9]\n",
    "numtolist1(a)"
   ]
  },
  {
   "cell_type": "code",
   "execution_count": 16,
   "metadata": {},
   "outputs": [
    {
     "name": "stdout",
     "output_type": "stream",
     "text": [
      "46"
     ]
    }
   ],
   "source": [
    "def numtolist2(a):\n",
    "    for i in range(len(a)):\n",
    " \n",
    "            if i%2!=0:\n",
    "                print(a[i],end=\"\")\n",
    "a=[1,4,5,6,9]\n",
    "numtolist2(a)"
   ]
  },
  {
   "cell_type": "code",
   "execution_count": 26,
   "metadata": {},
   "outputs": [
    {
     "ename": "SyntaxError",
     "evalue": "invalid syntax (<ipython-input-26-ff54a2dd17d0>, line 5)",
     "output_type": "error",
     "traceback": [
      "\u001b[1;36m  File \u001b[1;32m\"<ipython-input-26-ff54a2dd17d0>\"\u001b[1;36m, line \u001b[1;32m5\u001b[0m\n\u001b[1;33m    for i in range(len(a))\u001b[0m\n\u001b[1;37m                          ^\u001b[0m\n\u001b[1;31mSyntaxError\u001b[0m\u001b[1;31m:\u001b[0m invalid syntax\n"
     ]
    }
   ],
   "source": [
    "def numtolist1(a):\n",
    "    \n",
    "    list1=[]\n",
    "    i=0\n",
    "    for i in range(len(a)):\n",
    "        while a!=0:    \n",
    "        a=a%10;\n",
    "        a=a//10\n",
    "    print(list1)\n",
    "a=[1,4,5,6,9]\n",
    "numtolist1(a)\n"
   ]
  },
  {
   "cell_type": "code",
   "execution_count": 27,
   "metadata": {},
   "outputs": [
    {
     "data": {
      "text/plain": [
       "21"
      ]
     },
     "execution_count": 27,
     "metadata": {},
     "output_type": "execute_result"
    }
   ],
   "source": [
    "list=[1,2,3,4,5,6]\n",
    "sum(list)"
   ]
  },
  {
   "cell_type": "code",
   "execution_count": 32,
   "metadata": {},
   "outputs": [
    {
     "name": "stdout",
     "output_type": "stream",
     "text": [
      "1\n",
      "4\n",
      "3\n",
      "16\n",
      "5\n"
     ]
    }
   ],
   "source": [
    "def numtolist2(a):\n",
    "    list1=[]\n",
    "    i=0;\n",
    "    for i in range(len(a)):\n",
    "        if a[i]%2==0:\n",
    "            a[i]=a[i]**2;\n",
    "            print(a[i]);\n",
    "        else:\n",
    "            print (a[i]);\n",
    "a=[1,2,3,4,5]\n",
    "numtolist2(a)"
   ]
  },
  {
   "cell_type": "code",
   "execution_count": null,
   "metadata": {},
   "outputs": [],
   "source": []
  }
 ],
 "metadata": {
  "kernelspec": {
   "display_name": "Python 3",
   "language": "python",
   "name": "python3"
  },
  "language_info": {
   "codemirror_mode": {
    "name": "ipython",
    "version": 3
   },
   "file_extension": ".py",
   "mimetype": "text/x-python",
   "name": "python",
   "nbconvert_exporter": "python",
   "pygments_lexer": "ipython3",
   "version": "3.7.3"
  }
 },
 "nbformat": 4,
 "nbformat_minor": 2
}
